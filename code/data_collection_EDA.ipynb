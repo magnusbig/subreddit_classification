{
 "cells": [
  {
   "cell_type": "markdown",
   "metadata": {},
   "source": [
    "# Data Collection & EDA\n",
    "\n",
    "Notebook outlining the steps taken to collect data from our subreddits and EDA performed.\n",
    "\n",
    "> **Data Science Problems**<br> \n",
    "1) Given the text contained within the title and original post from r/woodworking and r/mtb can we predict which subreddit the post came from with >85% accuracy?<br> \n",
    "2) Further, using the same model and hyperparameters can we achieve >80% accuracy using the two similar subreddits r/mtb and r/bicycling?"
   ]
  },
  {
   "cell_type": "markdown",
   "metadata": {},
   "source": [
    "## Contents\n",
    "- [Imports](#Imports)\n",
    "- [Data Collection](#Data-Collection)\n",
    "- [Cleaning & Feature Engineering](#Cleaning-&-Feature-Engineering)\n",
    "- [Top Tokens](#Top-Tokens)\n",
    "- [Extra Data Collection for Question 2](#Extra-Data-Collection-for-Question-2)"
   ]
  },
  {
   "cell_type": "markdown",
   "metadata": {},
   "source": [
    "### Imports"
   ]
  },
  {
   "cell_type": "code",
   "execution_count": 51,
   "metadata": {},
   "outputs": [],
   "source": [
    "import requests\n",
    "import pandas as pd\n",
    "import numpy as np"
   ]
  },
  {
   "cell_type": "markdown",
   "metadata": {},
   "source": [
    "### Data Collection"
   ]
  },
  {
   "cell_type": "code",
   "execution_count": 44,
   "metadata": {},
   "outputs": [],
   "source": [
    "# thanks shiruken\n",
    "# https://www.reddit.com/r/pushshift/comments/bfc2m1/capping_at_1000_posts/\n",
    "# Get from r/woodworking\n",
    "n = 0\n",
    "last = ''\n",
    "posts = []\n",
    "url = 'https://api.pushshift.io/reddit/search/submission/?subreddit=woodworking'\n",
    "\n",
    "while n < 10000:\n",
    "    request = requests.get('{}&before={}'.format(url,last))\n",
    "    json = request.json()\n",
    "    for s in json['data']:\n",
    "        posts.append(s)\n",
    "        n += 1\n",
    "    last = int(s['created_utc'])"
   ]
  },
  {
   "cell_type": "code",
   "execution_count": 45,
   "metadata": {},
   "outputs": [],
   "source": [
    "# convert to dataframe\n",
    "wood_df = pd.DataFrame(posts)"
   ]
  },
  {
   "cell_type": "code",
   "execution_count": 103,
   "metadata": {},
   "outputs": [
    {
     "data": {
      "text/html": [
       "<div>\n",
       "<style scoped>\n",
       "    .dataframe tbody tr th:only-of-type {\n",
       "        vertical-align: middle;\n",
       "    }\n",
       "\n",
       "    .dataframe tbody tr th {\n",
       "        vertical-align: top;\n",
       "    }\n",
       "\n",
       "    .dataframe thead th {\n",
       "        text-align: right;\n",
       "    }\n",
       "</style>\n",
       "<table border=\"1\" class=\"dataframe\">\n",
       "  <thead>\n",
       "    <tr style=\"text-align: right;\">\n",
       "      <th></th>\n",
       "      <th>title</th>\n",
       "      <th>selftext</th>\n",
       "      <th>subreddit</th>\n",
       "    </tr>\n",
       "  </thead>\n",
       "  <tbody>\n",
       "    <tr>\n",
       "      <th>0</th>\n",
       "      <td>Is it a bad idea to apply oil based polyuretha...</td>\n",
       "      <td>What are your experiences</td>\n",
       "      <td>woodworking</td>\n",
       "    </tr>\n",
       "    <tr>\n",
       "      <th>1</th>\n",
       "      <td>First project: a needlessly complicated learni...</td>\n",
       "      <td></td>\n",
       "      <td>woodworking</td>\n",
       "    </tr>\n",
       "    <tr>\n",
       "      <th>2</th>\n",
       "      <td>Welded this 2x2 steel tube TV console table, u...</td>\n",
       "      <td></td>\n",
       "      <td>woodworking</td>\n",
       "    </tr>\n",
       "    <tr>\n",
       "      <th>3</th>\n",
       "      <td>Router means: Marble Run! Making toys for my S...</td>\n",
       "      <td></td>\n",
       "      <td>woodworking</td>\n",
       "    </tr>\n",
       "    <tr>\n",
       "      <th>4</th>\n",
       "      <td>structural feasability</td>\n",
       "      <td>Hey everyone, need some design advice from fol...</td>\n",
       "      <td>woodworking</td>\n",
       "    </tr>\n",
       "  </tbody>\n",
       "</table>\n",
       "</div>"
      ],
      "text/plain": [
       "                                               title  \\\n",
       "0  Is it a bad idea to apply oil based polyuretha...   \n",
       "1  First project: a needlessly complicated learni...   \n",
       "2  Welded this 2x2 steel tube TV console table, u...   \n",
       "3  Router means: Marble Run! Making toys for my S...   \n",
       "4                             structural feasability   \n",
       "\n",
       "                                            selftext    subreddit  \n",
       "0                          What are your experiences  woodworking  \n",
       "1                                                     woodworking  \n",
       "2                                                     woodworking  \n",
       "3                                                     woodworking  \n",
       "4  Hey everyone, need some design advice from fol...  woodworking  "
      ]
     },
     "execution_count": 103,
     "metadata": {},
     "output_type": "execute_result"
    }
   ],
   "source": [
    "wood_df[['title','selftext','subreddit']].head()"
   ]
  },
  {
   "cell_type": "code",
   "execution_count": 104,
   "metadata": {},
   "outputs": [],
   "source": [
    "# only get our title, text and subreddit fields\n",
    "wood_df = wood_df[['title','selftext','subreddit']]"
   ]
  },
  {
   "cell_type": "code",
   "execution_count": 53,
   "metadata": {},
   "outputs": [
    {
     "data": {
      "text/plain": [
       "title        0\n",
       "selftext     3\n",
       "subreddit    0\n",
       "dtype: int64"
      ]
     },
     "execution_count": 53,
     "metadata": {},
     "output_type": "execute_result"
    }
   ],
   "source": []
  },
  {
   "cell_type": "code",
   "execution_count": 49,
   "metadata": {},
   "outputs": [],
   "source": [
    "# thanks shiruken\n",
    "# https://www.reddit.com/r/pushshift/comments/bfc2m1/capping_at_1000_posts/\n",
    "# Get from r/mtb\n",
    "n = 0\n",
    "last = ''\n",
    "posts = []\n",
    "url = 'https://api.pushshift.io/reddit/search/submission/?subreddit=mtb'\n",
    "\n",
    "while n < 10000:\n",
    "    request = requests.get('{}&before={}'.format(url,last))\n",
    "    json = request.json()\n",
    "    for s in json['data']:\n",
    "        posts.append(s)\n",
    "        n += 1\n",
    "    last = int(s['created_utc'])"
   ]
  },
  {
   "cell_type": "code",
   "execution_count": 50,
   "metadata": {},
   "outputs": [],
   "source": [
    "# convert to dataframe\n",
    "mtb_df = pd.DataFrame(posts)"
   ]
  },
  {
   "cell_type": "code",
   "execution_count": 59,
   "metadata": {},
   "outputs": [
    {
     "data": {
      "text/html": [
       "<div>\n",
       "<style scoped>\n",
       "    .dataframe tbody tr th:only-of-type {\n",
       "        vertical-align: middle;\n",
       "    }\n",
       "\n",
       "    .dataframe tbody tr th {\n",
       "        vertical-align: top;\n",
       "    }\n",
       "\n",
       "    .dataframe thead th {\n",
       "        text-align: right;\n",
       "    }\n",
       "</style>\n",
       "<table border=\"1\" class=\"dataframe\">\n",
       "  <thead>\n",
       "    <tr style=\"text-align: right;\">\n",
       "      <th></th>\n",
       "      <th>title</th>\n",
       "      <th>selftext</th>\n",
       "      <th>subreddit</th>\n",
       "    </tr>\n",
       "  </thead>\n",
       "  <tbody>\n",
       "    <tr>\n",
       "      <th>0</th>\n",
       "      <td>I went to a free taco day and there happened t...</td>\n",
       "      <td></td>\n",
       "      <td>MTB</td>\n",
       "    </tr>\n",
       "    <tr>\n",
       "      <th>1</th>\n",
       "      <td>2019 Trek Fuel EX8 vs 2020 Orbea Occam H30</td>\n",
       "      <td>A friend of mine is looking at these two bikes...</td>\n",
       "      <td>MTB</td>\n",
       "    </tr>\n",
       "    <tr>\n",
       "      <th>2</th>\n",
       "      <td>Flangless seals on fox forks</td>\n",
       "      <td>I'm planning on doing a seal replacement on my...</td>\n",
       "      <td>MTB</td>\n",
       "    </tr>\n",
       "    <tr>\n",
       "      <th>3</th>\n",
       "      <td>Forming the flying V to push our hurt friend o...</td>\n",
       "      <td></td>\n",
       "      <td>MTB</td>\n",
       "    </tr>\n",
       "    <tr>\n",
       "      <th>4</th>\n",
       "      <td>A Pisgah trail that's not wrecked from freeze-...</td>\n",
       "      <td></td>\n",
       "      <td>MTB</td>\n",
       "    </tr>\n",
       "  </tbody>\n",
       "</table>\n",
       "</div>"
      ],
      "text/plain": [
       "                                               title  \\\n",
       "0  I went to a free taco day and there happened t...   \n",
       "1         2019 Trek Fuel EX8 vs 2020 Orbea Occam H30   \n",
       "2                       Flangless seals on fox forks   \n",
       "3  Forming the flying V to push our hurt friend o...   \n",
       "4  A Pisgah trail that's not wrecked from freeze-...   \n",
       "\n",
       "                                            selftext subreddit  \n",
       "0                                                          MTB  \n",
       "1  A friend of mine is looking at these two bikes...       MTB  \n",
       "2  I'm planning on doing a seal replacement on my...       MTB  \n",
       "3                                                          MTB  \n",
       "4                                                          MTB  "
      ]
     },
     "execution_count": 59,
     "metadata": {},
     "output_type": "execute_result"
    }
   ],
   "source": [
    "mtb_df[['title','selftext','subreddit']].head()"
   ]
  },
  {
   "cell_type": "code",
   "execution_count": 105,
   "metadata": {},
   "outputs": [],
   "source": [
    "# only get our title, text and subreddit fields\n",
    "mtb_df = mtb_df[['title','selftext','subreddit']]"
   ]
  },
  {
   "cell_type": "markdown",
   "metadata": {},
   "source": [
    "### Cleaning & Feature Engineering"
   ]
  },
  {
   "cell_type": "code",
   "execution_count": 106,
   "metadata": {},
   "outputs": [],
   "source": [
    "# Concatenate dataframes\n",
    "df = pd.concat([wood_df,mtb_df])"
   ]
  },
  {
   "cell_type": "code",
   "execution_count": 107,
   "metadata": {},
   "outputs": [
    {
     "data": {
      "text/plain": [
       "(20000, 3)"
      ]
     },
     "execution_count": 107,
     "metadata": {},
     "output_type": "execute_result"
    }
   ],
   "source": [
    "# Did it work?\n",
    "df.shape"
   ]
  },
  {
   "cell_type": "code",
   "execution_count": 108,
   "metadata": {},
   "outputs": [
    {
     "data": {
      "text/plain": [
       "woodworking    10000\n",
       "MTB            10000\n",
       "Name: subreddit, dtype: int64"
      ]
     },
     "execution_count": 108,
     "metadata": {},
     "output_type": "execute_result"
    }
   ],
   "source": [
    "df['subreddit'].value_counts()"
   ]
  },
  {
   "cell_type": "markdown",
   "metadata": {},
   "source": [
    "We have successfully created our combined DataFrame with 20,000 observations and equal classes.\n",
    "\n",
    "In both subbreddits there are numerous posts that only have a title and then pictures. Let's create a new 'text' column that includes both the title and selftext so that we have a single column with that includes text for every instance."
   ]
  },
  {
   "cell_type": "code",
   "execution_count": 109,
   "metadata": {},
   "outputs": [],
   "source": [
    "df['text'] = df['title'] + ' ' + df['selftext']"
   ]
  },
  {
   "cell_type": "code",
   "execution_count": 110,
   "metadata": {},
   "outputs": [
    {
     "data": {
      "text/html": [
       "<div>\n",
       "<style scoped>\n",
       "    .dataframe tbody tr th:only-of-type {\n",
       "        vertical-align: middle;\n",
       "    }\n",
       "\n",
       "    .dataframe tbody tr th {\n",
       "        vertical-align: top;\n",
       "    }\n",
       "\n",
       "    .dataframe thead th {\n",
       "        text-align: right;\n",
       "    }\n",
       "</style>\n",
       "<table border=\"1\" class=\"dataframe\">\n",
       "  <thead>\n",
       "    <tr style=\"text-align: right;\">\n",
       "      <th></th>\n",
       "      <th>title</th>\n",
       "      <th>selftext</th>\n",
       "      <th>subreddit</th>\n",
       "      <th>text</th>\n",
       "    </tr>\n",
       "  </thead>\n",
       "  <tbody>\n",
       "    <tr>\n",
       "      <th>0</th>\n",
       "      <td>Is it a bad idea to apply oil based polyuretha...</td>\n",
       "      <td>What are your experiences</td>\n",
       "      <td>woodworking</td>\n",
       "      <td>Is it a bad idea to apply oil based polyuretha...</td>\n",
       "    </tr>\n",
       "    <tr>\n",
       "      <th>1</th>\n",
       "      <td>First project: a needlessly complicated learni...</td>\n",
       "      <td></td>\n",
       "      <td>woodworking</td>\n",
       "      <td>First project: a needlessly complicated learni...</td>\n",
       "    </tr>\n",
       "    <tr>\n",
       "      <th>2</th>\n",
       "      <td>Welded this 2x2 steel tube TV console table, u...</td>\n",
       "      <td></td>\n",
       "      <td>woodworking</td>\n",
       "      <td>Welded this 2x2 steel tube TV console table, u...</td>\n",
       "    </tr>\n",
       "    <tr>\n",
       "      <th>3</th>\n",
       "      <td>Router means: Marble Run! Making toys for my S...</td>\n",
       "      <td></td>\n",
       "      <td>woodworking</td>\n",
       "      <td>Router means: Marble Run! Making toys for my S...</td>\n",
       "    </tr>\n",
       "    <tr>\n",
       "      <th>4</th>\n",
       "      <td>structural feasability</td>\n",
       "      <td>Hey everyone, need some design advice from fol...</td>\n",
       "      <td>woodworking</td>\n",
       "      <td>structural feasability Hey everyone, need some...</td>\n",
       "    </tr>\n",
       "  </tbody>\n",
       "</table>\n",
       "</div>"
      ],
      "text/plain": [
       "                                               title  \\\n",
       "0  Is it a bad idea to apply oil based polyuretha...   \n",
       "1  First project: a needlessly complicated learni...   \n",
       "2  Welded this 2x2 steel tube TV console table, u...   \n",
       "3  Router means: Marble Run! Making toys for my S...   \n",
       "4                             structural feasability   \n",
       "\n",
       "                                            selftext    subreddit  \\\n",
       "0                          What are your experiences  woodworking   \n",
       "1                                                     woodworking   \n",
       "2                                                     woodworking   \n",
       "3                                                     woodworking   \n",
       "4  Hey everyone, need some design advice from fol...  woodworking   \n",
       "\n",
       "                                                text  \n",
       "0  Is it a bad idea to apply oil based polyuretha...  \n",
       "1  First project: a needlessly complicated learni...  \n",
       "2  Welded this 2x2 steel tube TV console table, u...  \n",
       "3  Router means: Marble Run! Making toys for my S...  \n",
       "4  structural feasability Hey everyone, need some...  "
      ]
     },
     "execution_count": 110,
     "metadata": {},
     "output_type": "execute_result"
    }
   ],
   "source": [
    "df.head()"
   ]
  },
  {
   "cell_type": "code",
   "execution_count": 111,
   "metadata": {},
   "outputs": [
    {
     "data": {
      "text/html": [
       "<div>\n",
       "<style scoped>\n",
       "    .dataframe tbody tr th:only-of-type {\n",
       "        vertical-align: middle;\n",
       "    }\n",
       "\n",
       "    .dataframe tbody tr th {\n",
       "        vertical-align: top;\n",
       "    }\n",
       "\n",
       "    .dataframe thead th {\n",
       "        text-align: right;\n",
       "    }\n",
       "</style>\n",
       "<table border=\"1\" class=\"dataframe\">\n",
       "  <thead>\n",
       "    <tr style=\"text-align: right;\">\n",
       "      <th></th>\n",
       "      <th>title</th>\n",
       "      <th>selftext</th>\n",
       "      <th>subreddit</th>\n",
       "      <th>text</th>\n",
       "    </tr>\n",
       "  </thead>\n",
       "  <tbody>\n",
       "    <tr>\n",
       "      <th>0</th>\n",
       "      <td>Is it a bad idea to apply oil based polyuretha...</td>\n",
       "      <td>What are your experiences</td>\n",
       "      <td>1</td>\n",
       "      <td>Is it a bad idea to apply oil based polyuretha...</td>\n",
       "    </tr>\n",
       "    <tr>\n",
       "      <th>1</th>\n",
       "      <td>First project: a needlessly complicated learni...</td>\n",
       "      <td></td>\n",
       "      <td>1</td>\n",
       "      <td>First project: a needlessly complicated learni...</td>\n",
       "    </tr>\n",
       "    <tr>\n",
       "      <th>2</th>\n",
       "      <td>Welded this 2x2 steel tube TV console table, u...</td>\n",
       "      <td></td>\n",
       "      <td>1</td>\n",
       "      <td>Welded this 2x2 steel tube TV console table, u...</td>\n",
       "    </tr>\n",
       "    <tr>\n",
       "      <th>3</th>\n",
       "      <td>Router means: Marble Run! Making toys for my S...</td>\n",
       "      <td></td>\n",
       "      <td>1</td>\n",
       "      <td>Router means: Marble Run! Making toys for my S...</td>\n",
       "    </tr>\n",
       "    <tr>\n",
       "      <th>4</th>\n",
       "      <td>structural feasability</td>\n",
       "      <td>Hey everyone, need some design advice from fol...</td>\n",
       "      <td>1</td>\n",
       "      <td>structural feasability Hey everyone, need some...</td>\n",
       "    </tr>\n",
       "  </tbody>\n",
       "</table>\n",
       "</div>"
      ],
      "text/plain": [
       "                                               title  \\\n",
       "0  Is it a bad idea to apply oil based polyuretha...   \n",
       "1  First project: a needlessly complicated learni...   \n",
       "2  Welded this 2x2 steel tube TV console table, u...   \n",
       "3  Router means: Marble Run! Making toys for my S...   \n",
       "4                             structural feasability   \n",
       "\n",
       "                                            selftext  subreddit  \\\n",
       "0                          What are your experiences          1   \n",
       "1                                                             1   \n",
       "2                                                             1   \n",
       "3                                                             1   \n",
       "4  Hey everyone, need some design advice from fol...          1   \n",
       "\n",
       "                                                text  \n",
       "0  Is it a bad idea to apply oil based polyuretha...  \n",
       "1  First project: a needlessly complicated learni...  \n",
       "2  Welded this 2x2 steel tube TV console table, u...  \n",
       "3  Router means: Marble Run! Making toys for my S...  \n",
       "4  structural feasability Hey everyone, need some...  "
      ]
     },
     "execution_count": 111,
     "metadata": {},
     "output_type": "execute_result"
    }
   ],
   "source": [
    "# convert subbreddit to boolean MTB = 0\n",
    "df['subreddit'] = df['subreddit'].map({'woodworking':1,'MTB':0})\n",
    "df.head()"
   ]
  },
  {
   "cell_type": "code",
   "execution_count": 112,
   "metadata": {},
   "outputs": [
    {
     "name": "stdout",
     "output_type": "stream",
     "text": [
      "Mean characters in text: 235.5\n",
      "Median characters in text: 97.0\n"
     ]
    }
   ],
   "source": [
    "# Mean + median text length \n",
    "print('Mean characters in text: ' + str(round(df['text'].str.len().mean(),2)))\n",
    "print('Median characters in text: ' + str(round(df['text'].str.len().median(),2)))"
   ]
  },
  {
   "cell_type": "code",
   "execution_count": 113,
   "metadata": {},
   "outputs": [
    {
     "name": "stdout",
     "output_type": "stream",
     "text": [
      "Mean characters in text, woodworking subreddit: 193.4\n",
      "Median characters in text, woodworking subreddit: 88.0\n"
     ]
    }
   ],
   "source": [
    "# For woodworking\n",
    "print('Mean characters in text, woodworking subreddit: ' + str(round(df.loc[df['subreddit'] == 1]['text'].str.len().mean(),2)))\n",
    "print('Median characters in text, woodworking subreddit: ' + str(round(df.loc[df['subreddit'] == 1]['text'].str.len().median(),2)))"
   ]
  },
  {
   "cell_type": "code",
   "execution_count": 114,
   "metadata": {},
   "outputs": [
    {
     "name": "stdout",
     "output_type": "stream",
     "text": [
      "Mean characters in text, mtb subreddit: 277.61\n",
      "Median characters in text, mtb subreddit: 113.0\n"
     ]
    }
   ],
   "source": [
    "# For mtb\n",
    "print('Mean characters in text, mtb subreddit: ' + str(round(df.loc[df['subreddit'] == 0]['text'].str.len().mean(),2)))\n",
    "print('Median characters in text, mtb subreddit: ' + str(round(df.loc[df['subreddit'] == 0]['text'].str.len().median(),2)))"
   ]
  },
  {
   "cell_type": "markdown",
   "metadata": {},
   "source": [
    "We have done the feature engineering we want and also it was interesting to note that the woodworking subreddit had lower average and median string lengths than the mtb subreddit. We will now save our data to CSV and move on to modelling."
   ]
  },
  {
   "cell_type": "code",
   "execution_count": 115,
   "metadata": {},
   "outputs": [],
   "source": [
    "# save to csv\n",
    "df.to_csv('../data/subreddit_text.csv', index=False)"
   ]
  },
  {
   "cell_type": "markdown",
   "metadata": {},
   "source": [
    "### Top Tokens"
   ]
  },
  {
   "cell_type": "code",
   "execution_count": 198,
   "metadata": {},
   "outputs": [],
   "source": [
    "# visualization imports\n",
    "from sklearn.feature_extraction.text import CountVectorizer\n",
    "import seaborn as sns\n",
    "import matplotlib.pyplot as plt"
   ]
  },
  {
   "cell_type": "markdown",
   "metadata": {},
   "source": [
    "We are going to look at the top words and frequencies for our 2 main subreddits to compare what tokens appear most often."
   ]
  },
  {
   "cell_type": "code",
   "execution_count": 207,
   "metadata": {},
   "outputs": [],
   "source": [
    "# Get top words method from \n",
    "# https://www.kdnuggets.com/2019/05/complete-exploratory-data-analysis-visualization-text-data.html\n",
    "def get_top_n_words(corpus, n=None):\n",
    "    vec = CountVectorizer(stop_words='english').fit(corpus)\n",
    "    bag_of_words = vec.transform(corpus)\n",
    "    sum_words = bag_of_words.sum(axis=0) \n",
    "    words_freq = [(word, sum_words[0, idx]) for word, idx in vec.vocabulary_.items()]\n",
    "    words_freq = sorted(words_freq, key = lambda x: x[1], reverse=True)\n",
    "    return words_freq[:n]"
   ]
  },
  {
   "cell_type": "code",
   "execution_count": 217,
   "metadata": {},
   "outputs": [
    {
     "data": {
      "text/plain": [
       "{'wood': 2265,\n",
       " 'table': 1789,\n",
       " 'just': 1316,\n",
       " 'amp': 1291,\n",
       " 'like': 1172,\n",
       " 'https': 1051,\n",
       " 'make': 1039,\n",
       " 'saw': 1028,\n",
       " 'woodworking': 927,\n",
       " 've': 909}"
      ]
     },
     "execution_count": 217,
     "metadata": {},
     "output_type": "execute_result"
    }
   ],
   "source": [
    "# Top 10 woodworking words (no stop words)\n",
    "top_wood = get_top_n_words(df[df['subreddit']==1]['text'],10)\n",
    "top_wood = dict(top_wood)\n",
    "top_wood"
   ]
  },
  {
   "cell_type": "code",
   "execution_count": 222,
   "metadata": {},
   "outputs": [
    {
     "data": {
      "text/plain": [
       "{'bike': 6084,\n",
       " 'new': 2244,\n",
       " 'just': 2113,\n",
       " 'like': 1946,\n",
       " 'ride': 1772,\n",
       " 'looking': 1702,\n",
       " 'riding': 1603,\n",
       " 'trail': 1522,\n",
       " 've': 1496,\n",
       " 'mtb': 1415}"
      ]
     },
     "execution_count": 222,
     "metadata": {},
     "output_type": "execute_result"
    }
   ],
   "source": [
    "# Top 10 mtb words (no stop words)\n",
    "top_mtb = get_top_n_words(df[df['subreddit']==0]['text'],10)\n",
    "top_mtb = dict(top_mtb)\n",
    "top_mtb"
   ]
  },
  {
   "cell_type": "code",
   "execution_count": 226,
   "metadata": {},
   "outputs": [
    {
     "data": {
      "image/png": "[encoded data removed]",
      "text/plain": [
       "<Figure size 576x432 with 1 Axes>"
      ]
     },
     "metadata": {
      "needs_background": "light"
     },
     "output_type": "display_data"
    }
   ],
   "source": [
    "# barplot of top 10 woodworking tokens\n",
    "plt.figure(figsize=(8,6))\n",
    "sns.barplot(x=list(top_wood.keys()),y=list(top_wood.values()))\n",
    "plt.title('Frequency of Top 10 Tokens in r/woodworking',fontsize=15)\n",
    "plt.xlabel('Tokens',fontsize=12)\n",
    "plt.ylabel('Token Count',fontsize=12);"
   ]
  },
  {
   "cell_type": "markdown",
   "metadata": {},
   "source": [
    "We can see that about half of these seem to be clearly woodworking related:\n",
    "- wood\n",
    "- table\n",
    "- make\n",
    "- saw\n",
    "- woodworking\n",
    "\n",
    "They will likely be very good predictors. However, using sklean's 'english' stop words still left us with tokens such as 'just', 'like' and we also have 'amp' we may be related to electric supply, https and ve which we don't know much about."
   ]
  },
  {
   "cell_type": "code",
   "execution_count": 227,
   "metadata": {},
   "outputs": [
    {
     "data": {
      "image/png": "[encoded data removed]",
      "text/plain": [
       "<Figure size 576x432 with 1 Axes>"
      ]
     },
     "metadata": {
      "needs_background": "light"
     },
     "output_type": "display_data"
    }
   ],
   "source": [
    "# barplot of top 10 mtb tokens\n",
    "plt.figure(figsize=(8,6))\n",
    "sns.barplot(x=list(top_mtb.keys()),y=list(top_mtb.values()))\n",
    "plt.title('Frequency of Top 10 Tokens in r/mtb',fontsize=15)\n",
    "plt.xlabel('Tokens',fontsize=12)\n",
    "plt.ylabel('Token Count',fontsize=12);"
   ]
  },
  {
   "cell_type": "markdown",
   "metadata": {},
   "source": [
    "Once again we have the tokens 'like', 'just' and 've' but the other tokens seem to be very good indicators for r/mtb.  It is also interesting to note that we have over 6,000 observations of 'bike' while for r/woodworking there was only ~2,300 observations of 'wood' and overally there seem to be more observations of all the tokens in the top 10 for r/mtb."
   ]
  },
  {
   "cell_type": "markdown",
   "metadata": {},
   "source": [
    "### Extra Data Collection for Question 2"
   ]
  },
  {
   "cell_type": "code",
   "execution_count": 92,
   "metadata": {},
   "outputs": [],
   "source": [
    "# thanks shiruken\n",
    "# https://www.reddit.com/r/pushshift/comments/bfc2m1/capping_at_1000_posts/\n",
    "# Get from r/roadcycling so that we can see our models performance with\n",
    "# 2 similar subreddits (mtb and rbicycling)\n",
    "n = 0\n",
    "last = ''\n",
    "posts = []\n",
    "url = 'https://api.pushshift.io/reddit/search/submission/?subreddit=bicycling'\n",
    "\n",
    "while n < 10000:\n",
    "    request = requests.get('{}&before={}'.format(url,last))\n",
    "    json = request.json()\n",
    "    for s in json['data']:\n",
    "        posts.append(s)\n",
    "        n += 1\n",
    "    last = int(s['created_utc'])"
   ]
  },
  {
   "cell_type": "code",
   "execution_count": 117,
   "metadata": {},
   "outputs": [
    {
     "data": {
      "text/html": [
       "<div>\n",
       "<style scoped>\n",
       "    .dataframe tbody tr th:only-of-type {\n",
       "        vertical-align: middle;\n",
       "    }\n",
       "\n",
       "    .dataframe tbody tr th {\n",
       "        vertical-align: top;\n",
       "    }\n",
       "\n",
       "    .dataframe thead th {\n",
       "        text-align: right;\n",
       "    }\n",
       "</style>\n",
       "<table border=\"1\" class=\"dataframe\">\n",
       "  <thead>\n",
       "    <tr style=\"text-align: right;\">\n",
       "      <th></th>\n",
       "      <th>title</th>\n",
       "      <th>selftext</th>\n",
       "      <th>subreddit</th>\n",
       "      <th>text</th>\n",
       "    </tr>\n",
       "  </thead>\n",
       "  <tbody>\n",
       "    <tr>\n",
       "      <th>0</th>\n",
       "      <td>Anyone done the Mt. Washington Century in New ...</td>\n",
       "      <td></td>\n",
       "      <td>bicycling</td>\n",
       "      <td>Anyone done the Mt. Washington Century in New ...</td>\n",
       "    </tr>\n",
       "    <tr>\n",
       "      <th>1</th>\n",
       "      <td>Built Up A 90s Cannondale Super V with SRAM NX...</td>\n",
       "      <td></td>\n",
       "      <td>bicycling</td>\n",
       "      <td>Built Up A 90s Cannondale Super V with SRAM NX...</td>\n",
       "    </tr>\n",
       "    <tr>\n",
       "      <th>2</th>\n",
       "      <td>[NBD] New bike for collegiate road racing!</td>\n",
       "      <td></td>\n",
       "      <td>bicycling</td>\n",
       "      <td>[NBD] New bike for collegiate road racing!</td>\n",
       "    </tr>\n",
       "    <tr>\n",
       "      <th>3</th>\n",
       "      <td>Best hybrid commuter bike for under £1000?</td>\n",
       "      <td>Recently had my Cube SL stolen and looking to ...</td>\n",
       "      <td>bicycling</td>\n",
       "      <td>Best hybrid commuter bike for under £1000? Rec...</td>\n",
       "    </tr>\n",
       "    <tr>\n",
       "      <th>4</th>\n",
       "      <td>NBD Post</td>\n",
       "      <td>My first new(ish) bike as a college student! I...</td>\n",
       "      <td>bicycling</td>\n",
       "      <td>NBD Post My first new(ish) bike as a college s...</td>\n",
       "    </tr>\n",
       "  </tbody>\n",
       "</table>\n",
       "</div>"
      ],
      "text/plain": [
       "                                               title  \\\n",
       "0  Anyone done the Mt. Washington Century in New ...   \n",
       "1  Built Up A 90s Cannondale Super V with SRAM NX...   \n",
       "2         [NBD] New bike for collegiate road racing!   \n",
       "3         Best hybrid commuter bike for under £1000?   \n",
       "4                                           NBD Post   \n",
       "\n",
       "                                            selftext  subreddit  \\\n",
       "0                                                     bicycling   \n",
       "1                                                     bicycling   \n",
       "2                                                     bicycling   \n",
       "3  Recently had my Cube SL stolen and looking to ...  bicycling   \n",
       "4  My first new(ish) bike as a college student! I...  bicycling   \n",
       "\n",
       "                                                text  \n",
       "0  Anyone done the Mt. Washington Century in New ...  \n",
       "1  Built Up A 90s Cannondale Super V with SRAM NX...  \n",
       "2        [NBD] New bike for collegiate road racing!   \n",
       "3  Best hybrid commuter bike for under £1000? Rec...  \n",
       "4  NBD Post My first new(ish) bike as a college s...  "
      ]
     },
     "execution_count": 117,
     "metadata": {},
     "output_type": "execute_result"
    }
   ],
   "source": [
    "# convert to dataframe\n",
    "b_df = pd.DataFrame(posts)\n",
    "# only get our title, text and subreddit fields\n",
    "b_df = b_df[['title','selftext','subreddit']]\n",
    "# Create 'Similar' datafram \n",
    "df_sim = pd.concat([b_df,mtb_df])\n",
    "# Create 'text' column\n",
    "df_sim['text'] = df_sim['title'] + ' ' + df_sim['selftext']\n",
    "# Check\n",
    "df_sim.head()"
   ]
  },
  {
   "cell_type": "code",
   "execution_count": 118,
   "metadata": {},
   "outputs": [
    {
     "data": {
      "text/html": [
       "<div>\n",
       "<style scoped>\n",
       "    .dataframe tbody tr th:only-of-type {\n",
       "        vertical-align: middle;\n",
       "    }\n",
       "\n",
       "    .dataframe tbody tr th {\n",
       "        vertical-align: top;\n",
       "    }\n",
       "\n",
       "    .dataframe thead th {\n",
       "        text-align: right;\n",
       "    }\n",
       "</style>\n",
       "<table border=\"1\" class=\"dataframe\">\n",
       "  <thead>\n",
       "    <tr style=\"text-align: right;\">\n",
       "      <th></th>\n",
       "      <th>title</th>\n",
       "      <th>selftext</th>\n",
       "      <th>subreddit</th>\n",
       "      <th>text</th>\n",
       "    </tr>\n",
       "  </thead>\n",
       "  <tbody>\n",
       "    <tr>\n",
       "      <th>0</th>\n",
       "      <td>Anyone done the Mt. Washington Century in New ...</td>\n",
       "      <td></td>\n",
       "      <td>1</td>\n",
       "      <td>Anyone done the Mt. Washington Century in New ...</td>\n",
       "    </tr>\n",
       "    <tr>\n",
       "      <th>1</th>\n",
       "      <td>Built Up A 90s Cannondale Super V with SRAM NX...</td>\n",
       "      <td></td>\n",
       "      <td>1</td>\n",
       "      <td>Built Up A 90s Cannondale Super V with SRAM NX...</td>\n",
       "    </tr>\n",
       "    <tr>\n",
       "      <th>2</th>\n",
       "      <td>[NBD] New bike for collegiate road racing!</td>\n",
       "      <td></td>\n",
       "      <td>1</td>\n",
       "      <td>[NBD] New bike for collegiate road racing!</td>\n",
       "    </tr>\n",
       "    <tr>\n",
       "      <th>3</th>\n",
       "      <td>Best hybrid commuter bike for under £1000?</td>\n",
       "      <td>Recently had my Cube SL stolen and looking to ...</td>\n",
       "      <td>1</td>\n",
       "      <td>Best hybrid commuter bike for under £1000? Rec...</td>\n",
       "    </tr>\n",
       "    <tr>\n",
       "      <th>4</th>\n",
       "      <td>NBD Post</td>\n",
       "      <td>My first new(ish) bike as a college student! I...</td>\n",
       "      <td>1</td>\n",
       "      <td>NBD Post My first new(ish) bike as a college s...</td>\n",
       "    </tr>\n",
       "  </tbody>\n",
       "</table>\n",
       "</div>"
      ],
      "text/plain": [
       "                                               title  \\\n",
       "0  Anyone done the Mt. Washington Century in New ...   \n",
       "1  Built Up A 90s Cannondale Super V with SRAM NX...   \n",
       "2         [NBD] New bike for collegiate road racing!   \n",
       "3         Best hybrid commuter bike for under £1000?   \n",
       "4                                           NBD Post   \n",
       "\n",
       "                                            selftext  subreddit  \\\n",
       "0                                                             1   \n",
       "1                                                             1   \n",
       "2                                                             1   \n",
       "3  Recently had my Cube SL stolen and looking to ...          1   \n",
       "4  My first new(ish) bike as a college student! I...          1   \n",
       "\n",
       "                                                text  \n",
       "0  Anyone done the Mt. Washington Century in New ...  \n",
       "1  Built Up A 90s Cannondale Super V with SRAM NX...  \n",
       "2        [NBD] New bike for collegiate road racing!   \n",
       "3  Best hybrid commuter bike for under £1000? Rec...  \n",
       "4  NBD Post My first new(ish) bike as a college s...  "
      ]
     },
     "execution_count": 118,
     "metadata": {},
     "output_type": "execute_result"
    }
   ],
   "source": [
    "# Boolean for 'subreddit', MTB = 0\n",
    "df_sim['subreddit'] = df_sim['subreddit'].map({'bicycling':1,'MTB':0})\n",
    "df_sim.head()"
   ]
  },
  {
   "cell_type": "code",
   "execution_count": 119,
   "metadata": {},
   "outputs": [],
   "source": [
    "# save to csv\n",
    "df_sim.to_csv('../data/similar_subreddits.csv', index=False)"
   ]
  },
  {
   "cell_type": "code",
   "execution_count": 120,
   "metadata": {},
   "outputs": [
    {
     "name": "stdout",
     "output_type": "stream",
     "text": [
      "Mean characters in text, bicycling subreddit: 249.79\n",
      "Median characters in text, bicycling subreddit: 84.0\n"
     ]
    }
   ],
   "source": [
    "# Mean and median string length r/bicycling\n",
    "print('Mean characters in text, bicycling subreddit: ' + str(round(df_sim.loc[df['subreddit'] == 1]['text'].str.len().mean(),2)))\n",
    "print('Median characters in text, bicycling subreddit: ' + str(round(df_sim.loc[df['subreddit'] == 1]['text'].str.len().median(),2)))"
   ]
  }
 ],
 "metadata": {
  "kernelspec": {
   "display_name": "Python 3",
   "language": "python",
   "name": "python3"
  },
  "language_info": {
   "codemirror_mode": {
    "name": "ipython",
    "version": 3
   },
   "file_extension": ".py",
   "mimetype": "text/x-python",
   "name": "python",
   "nbconvert_exporter": "python",
   "pygments_lexer": "ipython3",
   "version": "3.7.6"
  }
 },
 "nbformat": 4,
 "nbformat_minor": 2
}
